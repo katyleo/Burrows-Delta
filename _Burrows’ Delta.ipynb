{
 "cells": [
  {
   "cell_type": "code",
   "execution_count": 1,
   "metadata": {
    "colab": {
     "base_uri": "https://localhost:8080/"
    },
    "id": "C_qWU9q31MrT",
    "outputId": "d8a69f32-5049-4580-b10d-0fae854daa5f"
   },
   "outputs": [
    {
     "name": "stdout",
     "output_type": "stream",
     "text": [
      "Requirement already satisfied: faststylometry in c:\\users\\ekaan\\anaconda3\\lib\\site-packages (0.5)\n",
      "Requirement already satisfied: scikit-learn>=0.23.1 in c:\\users\\ekaan\\anaconda3\\lib\\site-packages (from faststylometry) (0.24.2)\n",
      "Requirement already satisfied: pandas>=1.1.2 in c:\\users\\ekaan\\anaconda3\\lib\\site-packages (from faststylometry) (1.3.4)\n",
      "Requirement already satisfied: nltk>=3.5 in c:\\users\\ekaan\\anaconda3\\lib\\site-packages (from faststylometry) (3.6.5)\n",
      "Requirement already satisfied: numpy>=1.18.5 in c:\\users\\ekaan\\anaconda3\\lib\\site-packages (from faststylometry) (1.20.3)\n",
      "Requirement already satisfied: click in c:\\users\\ekaan\\anaconda3\\lib\\site-packages (from nltk>=3.5->faststylometry) (8.0.3)\n",
      "Requirement already satisfied: joblib in c:\\users\\ekaan\\anaconda3\\lib\\site-packages (from nltk>=3.5->faststylometry) (1.1.0)\n",
      "Requirement already satisfied: regex>=2021.8.3 in c:\\users\\ekaan\\anaconda3\\lib\\site-packages (from nltk>=3.5->faststylometry) (2021.8.3)\n",
      "Requirement already satisfied: tqdm in c:\\users\\ekaan\\anaconda3\\lib\\site-packages (from nltk>=3.5->faststylometry) (4.62.3)\n",
      "Requirement already satisfied: pytz>=2017.3 in c:\\users\\ekaan\\anaconda3\\lib\\site-packages (from pandas>=1.1.2->faststylometry) (2021.3)\n",
      "Requirement already satisfied: python-dateutil>=2.7.3 in c:\\users\\ekaan\\anaconda3\\lib\\site-packages (from pandas>=1.1.2->faststylometry) (2.8.2)\n",
      "Requirement already satisfied: six>=1.5 in c:\\users\\ekaan\\anaconda3\\lib\\site-packages (from python-dateutil>=2.7.3->pandas>=1.1.2->faststylometry) (1.16.0)\n",
      "Requirement already satisfied: threadpoolctl>=2.0.0 in c:\\users\\ekaan\\anaconda3\\lib\\site-packages (from scikit-learn>=0.23.1->faststylometry) (2.2.0)\n",
      "Requirement already satisfied: scipy>=0.19.1 in c:\\users\\ekaan\\anaconda3\\lib\\site-packages (from scikit-learn>=0.23.1->faststylometry) (1.7.1)\n",
      "Requirement already satisfied: colorama in c:\\users\\ekaan\\anaconda3\\lib\\site-packages (from click->nltk>=3.5->faststylometry) (0.4.4)\n",
      "Note: you may need to restart the kernel to use updated packages.\n"
     ]
    }
   ],
   "source": [
    "pip install faststylometry"
   ]
  },
  {
   "cell_type": "code",
   "execution_count": 2,
   "metadata": {
    "colab": {
     "base_uri": "https://localhost:8080/"
    },
    "id": "ZPojLslAwLYl",
    "outputId": "fc92d2dd-7a38-4207-f78a-9c8cab759cfd"
   },
   "outputs": [
    {
     "name": "stderr",
     "output_type": "stream",
     "text": [
      "[nltk_data] Downloading package punkt to\n",
      "[nltk_data]     C:\\Users\\ekaan\\AppData\\Roaming\\nltk_data...\n",
      "[nltk_data]   Package punkt is already up-to-date!\n"
     ]
    },
    {
     "data": {
      "text/plain": [
       "True"
      ]
     },
     "execution_count": 2,
     "metadata": {},
     "output_type": "execute_result"
    }
   ],
   "source": [
    "from faststylometry import Corpus\n",
    "from faststylometry import load_corpus_from_folder\n",
    "from faststylometry import tokenise_remove_pronouns_en\n",
    "from faststylometry import calculate_burrows_delta\n",
    "from faststylometry import predict_proba, calibrate\n",
    "from faststylometry import get_calibration_curve \n",
    "import nltk\n",
    "nltk.download(\"punkt\")"
   ]
  },
  {
   "cell_type": "code",
   "execution_count": 3,
   "metadata": {
    "id": "pvOcDDI0wWuE"
   },
   "outputs": [],
   "source": [
    "train_corpus = load_corpus_from_folder(\"faststylometry/faststylometry/data/train\")\n",
    "\n",
    "train_corpus.tokenise(tokenise_remove_pronouns_en)\n",
    "\n",
    "# Load Sense and Sensibility, written by Jane Austen (marked as \"janedoe\")\n",
    "# and Villette, written by Charlotte Brontë (marked as \"currerbell\", Brontë's real pseudonym)\n",
    "\n",
    "test_corpus = load_corpus_from_folder(\"faststylometry/faststylometry/data/test\", pattern=None)\n",
    "# You can set pattern to a string value to just load a subset of the corpus.\n",
    "\n",
    "test_corpus.tokenise(tokenise_remove_pronouns_en)"
   ]
  },
  {
   "cell_type": "code",
   "execution_count": 105,
   "metadata": {
    "colab": {
     "base_uri": "https://localhost:8080/",
     "height": 222
    },
    "id": "xc1vSEZTwcWi",
    "outputId": "e9dfaef3-aec1-4666-ad47-547755a73052",
    "scrolled": true
   },
   "outputs": [
    {
     "data": {
      "text/html": [
       "<div>\n",
       "<style scoped>\n",
       "    .dataframe tbody tr th:only-of-type {\n",
       "        vertical-align: middle;\n",
       "    }\n",
       "\n",
       "    .dataframe tbody tr th {\n",
       "        vertical-align: top;\n",
       "    }\n",
       "\n",
       "    .dataframe thead th {\n",
       "        text-align: right;\n",
       "    }\n",
       "</style>\n",
       "<table border=\"1\" class=\"dataframe\">\n",
       "  <thead>\n",
       "    <tr style=\"text-align: right;\">\n",
       "      <th></th>\n",
       "      <th>Bahtin - Проблемы_творчества_Достоевского</th>\n",
       "      <th>Bahtin - Теория романа</th>\n",
       "      <th>Losev - ВЕЩЬ_И_ИМЯ</th>\n",
       "      <th>Losev - Диалектика_мифа</th>\n",
       "      <th>Losev - Диалектика_числа_у_Плотина</th>\n",
       "    </tr>\n",
       "    <tr>\n",
       "      <th>author</th>\n",
       "      <th></th>\n",
       "      <th></th>\n",
       "      <th></th>\n",
       "      <th></th>\n",
       "      <th></th>\n",
       "    </tr>\n",
       "  </thead>\n",
       "  <tbody>\n",
       "    <tr>\n",
       "      <th>BahtinM</th>\n",
       "      <td>2.973251</td>\n",
       "      <td>2.549571</td>\n",
       "      <td>2.920265</td>\n",
       "      <td>2.659378</td>\n",
       "      <td>2.882461</td>\n",
       "    </tr>\n",
       "    <tr>\n",
       "      <th>LosevA</th>\n",
       "      <td>3.520500</td>\n",
       "      <td>3.347388</td>\n",
       "      <td>2.552652</td>\n",
       "      <td>2.188021</td>\n",
       "      <td>2.497560</td>\n",
       "    </tr>\n",
       "  </tbody>\n",
       "</table>\n",
       "</div>"
      ],
      "text/plain": [
       "         Bahtin - Проблемы_творчества_Достоевского  Bahtin - Теория романа  \\\n",
       "author                                                                       \n",
       "BahtinM                                   2.973251                2.549571   \n",
       "LosevA                                    3.520500                3.347388   \n",
       "\n",
       "         Losev - ВЕЩЬ_И_ИМЯ  Losev - Диалектика_мифа  \\\n",
       "author                                                 \n",
       "BahtinM            2.920265                 2.659378   \n",
       "LosevA             2.552652                 2.188021   \n",
       "\n",
       "         Losev - Диалектика_числа_у_Плотина  \n",
       "author                                       \n",
       "BahtinM                            2.882461  \n",
       "LosevA                             2.497560  "
      ]
     },
     "execution_count": 105,
     "metadata": {},
     "output_type": "execute_result"
    }
   ],
   "source": [
    "calculate_burrows_delta(train_corpus, test_corpus, vocab_size = 50)"
   ]
  },
  {
   "cell_type": "code",
   "execution_count": 106,
   "metadata": {},
   "outputs": [
    {
     "data": {
      "text/plain": [
       "['и',\n",
       " 'в',\n",
       " 'не',\n",
       " 'как',\n",
       " 'его',\n",
       " 'с',\n",
       " 'есть',\n",
       " 'к',\n",
       " 'но',\n",
       " 'что',\n",
       " 'на',\n",
       " 'это',\n",
       " 'только',\n",
       " 'или',\n",
       " 'мы',\n",
       " 'то',\n",
       " 'для',\n",
       " 'а',\n",
       " 'от',\n",
       " 'себя',\n",
       " 'я',\n",
       " 'о',\n",
       " 'все',\n",
       " 'же',\n",
       " 'он',\n",
       " 'быть',\n",
       " 'может',\n",
       " 'жизни',\n",
       " 'бы',\n",
       " 'из',\n",
       " 'по',\n",
       " 'ее',\n",
       " 'слова',\n",
       " 'так',\n",
       " 'сущности',\n",
       " 'себе',\n",
       " 'здесь',\n",
       " 'героя',\n",
       " 'уже',\n",
       " 'другого',\n",
       " 'их',\n",
       " 'во',\n",
       " 'человека',\n",
       " 'она',\n",
       " 'момент',\n",
       " 'этого',\n",
       " 'слово',\n",
       " 'оно',\n",
       " 'если',\n",
       " 'нет']"
      ]
     },
     "execution_count": 106,
     "metadata": {},
     "output_type": "execute_result"
    }
   ],
   "source": [
    "train_corpus.top_tokens"
   ]
  },
  {
   "cell_type": "code",
   "execution_count": 107,
   "metadata": {
    "id": "Qiqo6yIlxI4O"
   },
   "outputs": [],
   "source": [
    "from sklearn.decomposition import PCA\n",
    "import re\n",
    "import pandas as pd"
   ]
  },
  {
   "cell_type": "code",
   "execution_count": 108,
   "metadata": {
    "id": "DD23-tptxLXn"
   },
   "outputs": [],
   "source": [
    "# Reload the training corpus as the \"test corpus\", re-tokenise it, and segment it this time\n",
    "test_corpus = load_corpus_from_folder(\"faststylometry/faststylometry/data/test\")\n",
    "test_corpus.tokenise(tokenise_remove_pronouns_en)"
   ]
  },
  {
   "cell_type": "code",
   "execution_count": 109,
   "metadata": {
    "id": "ejow0qsExOIF"
   },
   "outputs": [],
   "source": [
    "split_test_corpus = test_corpus.split(80000)"
   ]
  },
  {
   "cell_type": "code",
   "execution_count": 110,
   "metadata": {
    "id": "TxWnUWLIxZjh"
   },
   "outputs": [],
   "source": [
    "df_delta = calculate_burrows_delta(train_corpus, split_test_corpus)"
   ]
  },
  {
   "cell_type": "code",
   "execution_count": 111,
   "metadata": {
    "id": "x2Zfe_9txdzk"
   },
   "outputs": [],
   "source": [
    "df_z_scores = split_test_corpus.df_author_z_scores"
   ]
  },
  {
   "cell_type": "code",
   "execution_count": 112,
   "metadata": {},
   "outputs": [
    {
     "data": {
      "text/html": [
       "<div>\n",
       "<style scoped>\n",
       "    .dataframe tbody tr th:only-of-type {\n",
       "        vertical-align: middle;\n",
       "    }\n",
       "\n",
       "    .dataframe tbody tr th {\n",
       "        vertical-align: top;\n",
       "    }\n",
       "\n",
       "    .dataframe thead th {\n",
       "        text-align: right;\n",
       "    }\n",
       "</style>\n",
       "<table border=\"1\" class=\"dataframe\">\n",
       "  <thead>\n",
       "    <tr style=\"text-align: right;\">\n",
       "      <th></th>\n",
       "      <th>и</th>\n",
       "      <th>в</th>\n",
       "      <th>не</th>\n",
       "      <th>как</th>\n",
       "      <th>его</th>\n",
       "      <th>с</th>\n",
       "      <th>есть</th>\n",
       "      <th>к</th>\n",
       "      <th>но</th>\n",
       "      <th>что</th>\n",
       "      <th>...</th>\n",
       "      <th>их</th>\n",
       "      <th>во</th>\n",
       "      <th>человека</th>\n",
       "      <th>она</th>\n",
       "      <th>момент</th>\n",
       "      <th>этого</th>\n",
       "      <th>слово</th>\n",
       "      <th>оно</th>\n",
       "      <th>если</th>\n",
       "      <th>нет</th>\n",
       "    </tr>\n",
       "    <tr>\n",
       "      <th>author_book</th>\n",
       "      <th></th>\n",
       "      <th></th>\n",
       "      <th></th>\n",
       "      <th></th>\n",
       "      <th></th>\n",
       "      <th></th>\n",
       "      <th></th>\n",
       "      <th></th>\n",
       "      <th></th>\n",
       "      <th></th>\n",
       "      <th></th>\n",
       "      <th></th>\n",
       "      <th></th>\n",
       "      <th></th>\n",
       "      <th></th>\n",
       "      <th></th>\n",
       "      <th></th>\n",
       "      <th></th>\n",
       "      <th></th>\n",
       "      <th></th>\n",
       "      <th></th>\n",
       "    </tr>\n",
       "  </thead>\n",
       "  <tbody>\n",
       "    <tr>\n",
       "      <th>Bahtin - Проблемы_творчества_Достоевского_0</th>\n",
       "      <td>-2.359199</td>\n",
       "      <td>2.305092</td>\n",
       "      <td>-17.471201</td>\n",
       "      <td>-0.692856</td>\n",
       "      <td>0.597098</td>\n",
       "      <td>6.393408</td>\n",
       "      <td>-1.115649</td>\n",
       "      <td>0.950231</td>\n",
       "      <td>-2.540413</td>\n",
       "      <td>-0.071129</td>\n",
       "      <td>...</td>\n",
       "      <td>0.339852</td>\n",
       "      <td>-0.274457</td>\n",
       "      <td>-0.228096</td>\n",
       "      <td>-0.632375</td>\n",
       "      <td>-2.281990</td>\n",
       "      <td>-0.798737</td>\n",
       "      <td>1.445197</td>\n",
       "      <td>-5.099675</td>\n",
       "      <td>-0.839068</td>\n",
       "      <td>-5.093841</td>\n",
       "    </tr>\n",
       "    <tr>\n",
       "      <th>Bahtin - Проблемы_творчества_Достоевского_1</th>\n",
       "      <td>-3.511559</td>\n",
       "      <td>11.606961</td>\n",
       "      <td>-49.863757</td>\n",
       "      <td>-1.741748</td>\n",
       "      <td>-0.579863</td>\n",
       "      <td>21.347975</td>\n",
       "      <td>-1.146237</td>\n",
       "      <td>1.277180</td>\n",
       "      <td>-3.008469</td>\n",
       "      <td>-0.359133</td>\n",
       "      <td>...</td>\n",
       "      <td>-0.339838</td>\n",
       "      <td>0.112335</td>\n",
       "      <td>-0.441545</td>\n",
       "      <td>-1.431583</td>\n",
       "      <td>-2.581129</td>\n",
       "      <td>-5.633207</td>\n",
       "      <td>-0.884118</td>\n",
       "      <td>-7.231496</td>\n",
       "      <td>-0.929553</td>\n",
       "      <td>-11.025390</td>\n",
       "    </tr>\n",
       "    <tr>\n",
       "      <th>Bahtin - Теория романа_0</th>\n",
       "      <td>0.809384</td>\n",
       "      <td>4.138420</td>\n",
       "      <td>-35.306498</td>\n",
       "      <td>-2.679906</td>\n",
       "      <td>0.194303</td>\n",
       "      <td>2.787999</td>\n",
       "      <td>-1.193825</td>\n",
       "      <td>0.152635</td>\n",
       "      <td>-2.638058</td>\n",
       "      <td>-1.125581</td>\n",
       "      <td>...</td>\n",
       "      <td>0.570820</td>\n",
       "      <td>-0.052914</td>\n",
       "      <td>1.134726</td>\n",
       "      <td>-0.891314</td>\n",
       "      <td>-1.747466</td>\n",
       "      <td>0.728893</td>\n",
       "      <td>1.824792</td>\n",
       "      <td>0.629625</td>\n",
       "      <td>-1.077468</td>\n",
       "      <td>-7.598776</td>\n",
       "    </tr>\n",
       "    <tr>\n",
       "      <th>Bahtin - Теория романа_1</th>\n",
       "      <td>1.471743</td>\n",
       "      <td>5.440715</td>\n",
       "      <td>-39.433674</td>\n",
       "      <td>-2.820656</td>\n",
       "      <td>-0.115539</td>\n",
       "      <td>2.248728</td>\n",
       "      <td>-1.049634</td>\n",
       "      <td>-0.116322</td>\n",
       "      <td>-0.782810</td>\n",
       "      <td>-0.833873</td>\n",
       "      <td>...</td>\n",
       "      <td>1.205982</td>\n",
       "      <td>0.408632</td>\n",
       "      <td>0.908933</td>\n",
       "      <td>-0.891314</td>\n",
       "      <td>-1.747466</td>\n",
       "      <td>2.638430</td>\n",
       "      <td>-0.999839</td>\n",
       "      <td>-2.917085</td>\n",
       "      <td>-0.878802</td>\n",
       "      <td>-3.590880</td>\n",
       "    </tr>\n",
       "    <tr>\n",
       "      <th>Bahtin - Теория романа_2</th>\n",
       "      <td>-3.873675</td>\n",
       "      <td>0.800499</td>\n",
       "      <td>-51.446705</td>\n",
       "      <td>-2.878611</td>\n",
       "      <td>-0.509885</td>\n",
       "      <td>6.131476</td>\n",
       "      <td>-1.159080</td>\n",
       "      <td>0.426229</td>\n",
       "      <td>-4.363112</td>\n",
       "      <td>-0.817136</td>\n",
       "      <td>...</td>\n",
       "      <td>0.039594</td>\n",
       "      <td>-1.160625</td>\n",
       "      <td>-0.050687</td>\n",
       "      <td>-1.060620</td>\n",
       "      <td>-2.266269</td>\n",
       "      <td>-5.381627</td>\n",
       "      <td>-0.798877</td>\n",
       "      <td>-6.645677</td>\n",
       "      <td>-1.013895</td>\n",
       "      <td>-9.226984</td>\n",
       "    </tr>\n",
       "    <tr>\n",
       "      <th>Bahtin - Теория романа_3</th>\n",
       "      <td>-8.179123</td>\n",
       "      <td>-5.778266</td>\n",
       "      <td>-74.241149</td>\n",
       "      <td>-4.245035</td>\n",
       "      <td>-1.180456</td>\n",
       "      <td>8.317145</td>\n",
       "      <td>-1.241328</td>\n",
       "      <td>0.730929</td>\n",
       "      <td>-5.434216</td>\n",
       "      <td>-0.921754</td>\n",
       "      <td>...</td>\n",
       "      <td>-1.309410</td>\n",
       "      <td>-1.227573</td>\n",
       "      <td>-0.354106</td>\n",
       "      <td>-1.527460</td>\n",
       "      <td>-2.643580</td>\n",
       "      <td>-10.615013</td>\n",
       "      <td>-0.081235</td>\n",
       "      <td>-12.417614</td>\n",
       "      <td>-1.008189</td>\n",
       "      <td>-15.039256</td>\n",
       "    </tr>\n",
       "    <tr>\n",
       "      <th>Losev - ВЕЩЬ_И_ИМЯ_0</th>\n",
       "      <td>1.658108</td>\n",
       "      <td>-10.789728</td>\n",
       "      <td>32.755105</td>\n",
       "      <td>-0.756006</td>\n",
       "      <td>-0.806320</td>\n",
       "      <td>1.706445</td>\n",
       "      <td>0.854315</td>\n",
       "      <td>-0.599437</td>\n",
       "      <td>2.553869</td>\n",
       "      <td>1.662880</td>\n",
       "      <td>...</td>\n",
       "      <td>0.559960</td>\n",
       "      <td>-1.370304</td>\n",
       "      <td>-0.613642</td>\n",
       "      <td>1.243001</td>\n",
       "      <td>-1.575702</td>\n",
       "      <td>1.467726</td>\n",
       "      <td>-1.085140</td>\n",
       "      <td>10.709020</td>\n",
       "      <td>1.305822</td>\n",
       "      <td>2.584325</td>\n",
       "    </tr>\n",
       "    <tr>\n",
       "      <th>Losev - Диалектика_мифа_0</th>\n",
       "      <td>0.491286</td>\n",
       "      <td>-10.525939</td>\n",
       "      <td>38.476837</td>\n",
       "      <td>-0.285930</td>\n",
       "      <td>-0.676291</td>\n",
       "      <td>-1.284053</td>\n",
       "      <td>0.653830</td>\n",
       "      <td>-0.935983</td>\n",
       "      <td>2.139403</td>\n",
       "      <td>1.605655</td>\n",
       "      <td>...</td>\n",
       "      <td>0.556557</td>\n",
       "      <td>-0.530983</td>\n",
       "      <td>-0.625259</td>\n",
       "      <td>0.994731</td>\n",
       "      <td>-2.073167</td>\n",
       "      <td>-1.423549</td>\n",
       "      <td>-1.377562</td>\n",
       "      <td>1.616688</td>\n",
       "      <td>0.983179</td>\n",
       "      <td>7.197460</td>\n",
       "    </tr>\n",
       "    <tr>\n",
       "      <th>Losev - Диалектика_числа_у_Плотина_0</th>\n",
       "      <td>-0.207427</td>\n",
       "      <td>-10.199467</td>\n",
       "      <td>19.673385</td>\n",
       "      <td>1.451501</td>\n",
       "      <td>-0.901413</td>\n",
       "      <td>-0.077839</td>\n",
       "      <td>0.201178</td>\n",
       "      <td>-0.501208</td>\n",
       "      <td>1.674579</td>\n",
       "      <td>1.841709</td>\n",
       "      <td>...</td>\n",
       "      <td>1.021207</td>\n",
       "      <td>-0.828312</td>\n",
       "      <td>-0.776450</td>\n",
       "      <td>0.463133</td>\n",
       "      <td>-2.266269</td>\n",
       "      <td>1.206277</td>\n",
       "      <td>-1.870674</td>\n",
       "      <td>12.906695</td>\n",
       "      <td>2.879971</td>\n",
       "      <td>0.041276</td>\n",
       "    </tr>\n",
       "    <tr>\n",
       "      <th>Losev - Диалектика_числа_у_Плотина_1</th>\n",
       "      <td>-2.457577</td>\n",
       "      <td>-4.225384</td>\n",
       "      <td>-19.202365</td>\n",
       "      <td>-0.013551</td>\n",
       "      <td>-1.104505</td>\n",
       "      <td>-0.139729</td>\n",
       "      <td>-0.312117</td>\n",
       "      <td>-0.138428</td>\n",
       "      <td>-0.655630</td>\n",
       "      <td>1.245490</td>\n",
       "      <td>...</td>\n",
       "      <td>-0.415493</td>\n",
       "      <td>-0.648592</td>\n",
       "      <td>-0.764889</td>\n",
       "      <td>0.107801</td>\n",
       "      <td>-2.212287</td>\n",
       "      <td>-0.605230</td>\n",
       "      <td>-1.751025</td>\n",
       "      <td>24.411219</td>\n",
       "      <td>2.498114</td>\n",
       "      <td>-6.755839</td>\n",
       "    </tr>\n",
       "  </tbody>\n",
       "</table>\n",
       "<p>10 rows × 50 columns</p>\n",
       "</div>"
      ],
      "text/plain": [
       "                                                    и          в         не  \\\n",
       "author_book                                                                   \n",
       "Bahtin - Проблемы_творчества_Достоевского_0 -2.359199   2.305092 -17.471201   \n",
       "Bahtin - Проблемы_творчества_Достоевского_1 -3.511559  11.606961 -49.863757   \n",
       "Bahtin - Теория романа_0                     0.809384   4.138420 -35.306498   \n",
       "Bahtin - Теория романа_1                     1.471743   5.440715 -39.433674   \n",
       "Bahtin - Теория романа_2                    -3.873675   0.800499 -51.446705   \n",
       "Bahtin - Теория романа_3                    -8.179123  -5.778266 -74.241149   \n",
       "Losev - ВЕЩЬ_И_ИМЯ_0                         1.658108 -10.789728  32.755105   \n",
       "Losev - Диалектика_мифа_0                    0.491286 -10.525939  38.476837   \n",
       "Losev - Диалектика_числа_у_Плотина_0        -0.207427 -10.199467  19.673385   \n",
       "Losev - Диалектика_числа_у_Плотина_1        -2.457577  -4.225384 -19.202365   \n",
       "\n",
       "                                                  как       его          с  \\\n",
       "author_book                                                                  \n",
       "Bahtin - Проблемы_творчества_Достоевского_0 -0.692856  0.597098   6.393408   \n",
       "Bahtin - Проблемы_творчества_Достоевского_1 -1.741748 -0.579863  21.347975   \n",
       "Bahtin - Теория романа_0                    -2.679906  0.194303   2.787999   \n",
       "Bahtin - Теория романа_1                    -2.820656 -0.115539   2.248728   \n",
       "Bahtin - Теория романа_2                    -2.878611 -0.509885   6.131476   \n",
       "Bahtin - Теория романа_3                    -4.245035 -1.180456   8.317145   \n",
       "Losev - ВЕЩЬ_И_ИМЯ_0                        -0.756006 -0.806320   1.706445   \n",
       "Losev - Диалектика_мифа_0                   -0.285930 -0.676291  -1.284053   \n",
       "Losev - Диалектика_числа_у_Плотина_0         1.451501 -0.901413  -0.077839   \n",
       "Losev - Диалектика_числа_у_Плотина_1        -0.013551 -1.104505  -0.139729   \n",
       "\n",
       "                                                 есть         к        но  \\\n",
       "author_book                                                                 \n",
       "Bahtin - Проблемы_творчества_Достоевского_0 -1.115649  0.950231 -2.540413   \n",
       "Bahtin - Проблемы_творчества_Достоевского_1 -1.146237  1.277180 -3.008469   \n",
       "Bahtin - Теория романа_0                    -1.193825  0.152635 -2.638058   \n",
       "Bahtin - Теория романа_1                    -1.049634 -0.116322 -0.782810   \n",
       "Bahtin - Теория романа_2                    -1.159080  0.426229 -4.363112   \n",
       "Bahtin - Теория романа_3                    -1.241328  0.730929 -5.434216   \n",
       "Losev - ВЕЩЬ_И_ИМЯ_0                         0.854315 -0.599437  2.553869   \n",
       "Losev - Диалектика_мифа_0                    0.653830 -0.935983  2.139403   \n",
       "Losev - Диалектика_числа_у_Плотина_0         0.201178 -0.501208  1.674579   \n",
       "Losev - Диалектика_числа_у_Плотина_1        -0.312117 -0.138428 -0.655630   \n",
       "\n",
       "                                                  что  ...        их  \\\n",
       "author_book                                            ...             \n",
       "Bahtin - Проблемы_творчества_Достоевского_0 -0.071129  ...  0.339852   \n",
       "Bahtin - Проблемы_творчества_Достоевского_1 -0.359133  ... -0.339838   \n",
       "Bahtin - Теория романа_0                    -1.125581  ...  0.570820   \n",
       "Bahtin - Теория романа_1                    -0.833873  ...  1.205982   \n",
       "Bahtin - Теория романа_2                    -0.817136  ...  0.039594   \n",
       "Bahtin - Теория романа_3                    -0.921754  ... -1.309410   \n",
       "Losev - ВЕЩЬ_И_ИМЯ_0                         1.662880  ...  0.559960   \n",
       "Losev - Диалектика_мифа_0                    1.605655  ...  0.556557   \n",
       "Losev - Диалектика_числа_у_Плотина_0         1.841709  ...  1.021207   \n",
       "Losev - Диалектика_числа_у_Плотина_1         1.245490  ... -0.415493   \n",
       "\n",
       "                                                   во  человека       она  \\\n",
       "author_book                                                                 \n",
       "Bahtin - Проблемы_творчества_Достоевского_0 -0.274457 -0.228096 -0.632375   \n",
       "Bahtin - Проблемы_творчества_Достоевского_1  0.112335 -0.441545 -1.431583   \n",
       "Bahtin - Теория романа_0                    -0.052914  1.134726 -0.891314   \n",
       "Bahtin - Теория романа_1                     0.408632  0.908933 -0.891314   \n",
       "Bahtin - Теория романа_2                    -1.160625 -0.050687 -1.060620   \n",
       "Bahtin - Теория романа_3                    -1.227573 -0.354106 -1.527460   \n",
       "Losev - ВЕЩЬ_И_ИМЯ_0                        -1.370304 -0.613642  1.243001   \n",
       "Losev - Диалектика_мифа_0                   -0.530983 -0.625259  0.994731   \n",
       "Losev - Диалектика_числа_у_Плотина_0        -0.828312 -0.776450  0.463133   \n",
       "Losev - Диалектика_числа_у_Плотина_1        -0.648592 -0.764889  0.107801   \n",
       "\n",
       "                                               момент      этого     слово  \\\n",
       "author_book                                                                  \n",
       "Bahtin - Проблемы_творчества_Достоевского_0 -2.281990  -0.798737  1.445197   \n",
       "Bahtin - Проблемы_творчества_Достоевского_1 -2.581129  -5.633207 -0.884118   \n",
       "Bahtin - Теория романа_0                    -1.747466   0.728893  1.824792   \n",
       "Bahtin - Теория романа_1                    -1.747466   2.638430 -0.999839   \n",
       "Bahtin - Теория романа_2                    -2.266269  -5.381627 -0.798877   \n",
       "Bahtin - Теория романа_3                    -2.643580 -10.615013 -0.081235   \n",
       "Losev - ВЕЩЬ_И_ИМЯ_0                        -1.575702   1.467726 -1.085140   \n",
       "Losev - Диалектика_мифа_0                   -2.073167  -1.423549 -1.377562   \n",
       "Losev - Диалектика_числа_у_Плотина_0        -2.266269   1.206277 -1.870674   \n",
       "Losev - Диалектика_числа_у_Плотина_1        -2.212287  -0.605230 -1.751025   \n",
       "\n",
       "                                                   оно      если        нет  \n",
       "author_book                                                                  \n",
       "Bahtin - Проблемы_творчества_Достоевского_0  -5.099675 -0.839068  -5.093841  \n",
       "Bahtin - Проблемы_творчества_Достоевского_1  -7.231496 -0.929553 -11.025390  \n",
       "Bahtin - Теория романа_0                      0.629625 -1.077468  -7.598776  \n",
       "Bahtin - Теория романа_1                     -2.917085 -0.878802  -3.590880  \n",
       "Bahtin - Теория романа_2                     -6.645677 -1.013895  -9.226984  \n",
       "Bahtin - Теория романа_3                    -12.417614 -1.008189 -15.039256  \n",
       "Losev - ВЕЩЬ_И_ИМЯ_0                         10.709020  1.305822   2.584325  \n",
       "Losev - Диалектика_мифа_0                     1.616688  0.983179   7.197460  \n",
       "Losev - Диалектика_числа_у_Плотина_0         12.906695  2.879971   0.041276  \n",
       "Losev - Диалектика_числа_у_Плотина_1         24.411219  2.498114  -6.755839  \n",
       "\n",
       "[10 rows x 50 columns]"
      ]
     },
     "execution_count": 112,
     "metadata": {},
     "output_type": "execute_result"
    }
   ],
   "source": [
    "df_z_scores"
   ]
  },
  {
   "cell_type": "code",
   "execution_count": 113,
   "metadata": {
    "id": "2s6h_wZrxiZv"
   },
   "outputs": [],
   "source": [
    "pca_model = PCA(n_components=2)\n",
    "pca_matrix = pca_model.fit_transform(df_z_scores)"
   ]
  },
  {
   "cell_type": "code",
   "execution_count": 114,
   "metadata": {},
   "outputs": [
    {
     "data": {
      "text/plain": [
       "array([[ -1.44425063,  25.26292136],\n",
       "       [ 34.57958263,  29.78611034],\n",
       "       [ 17.808643  , -13.817937  ],\n",
       "       [ 23.96152793, -20.7449847 ],\n",
       "       [ 38.35856653, -17.33896983],\n",
       "       [ 61.17337811,   2.92083115],\n",
       "       [-56.8943459 ,  -4.14145147],\n",
       "       [-60.0577275 ,  -8.15804152],\n",
       "       [-49.72871123,  10.5109693 ],\n",
       "       [ -7.75666295,  -4.27944762]])"
      ]
     },
     "execution_count": 114,
     "metadata": {},
     "output_type": "execute_result"
    }
   ],
   "source": [
    "pca_matrix"
   ]
  },
  {
   "cell_type": "code",
   "execution_count": 115,
   "metadata": {
    "id": "wuZ72nxv0-Ts"
   },
   "outputs": [],
   "source": [
    "authors = df_z_scores.index.map(lambda x : re.sub(\" - .+\", \"\", x))"
   ]
  },
  {
   "cell_type": "code",
   "execution_count": 116,
   "metadata": {},
   "outputs": [
    {
     "data": {
      "text/plain": [
       "Index(['Bahtin', 'Bahtin', 'Bahtin', 'Bahtin', 'Bahtin', 'Bahtin', 'Losev',\n",
       "       'Losev', 'Losev', 'Losev'],\n",
       "      dtype='object', name='author_book')"
      ]
     },
     "execution_count": 116,
     "metadata": {},
     "output_type": "execute_result"
    }
   ],
   "source": [
    "authors"
   ]
  },
  {
   "cell_type": "code",
   "execution_count": 117,
   "metadata": {
    "id": "Gaf3oOe61A7W"
   },
   "outputs": [],
   "source": [
    "df_pca_by_author = pd.DataFrame(pca_matrix)\n",
    "df_pca_by_author[\"author\"] = authors"
   ]
  },
  {
   "cell_type": "code",
   "execution_count": 118,
   "metadata": {
    "colab": {
     "base_uri": "https://localhost:8080/",
     "height": 775
    },
    "id": "lCdKkaqW1D5J",
    "outputId": "5a2826b0-f685-4951-e479-38171bdf9da6"
   },
   "outputs": [
    {
     "data": {
      "text/plain": [
       "Text(0.5, 1.0, 'Representation using PCA of works in training corpus')"
      ]
     },
     "execution_count": 118,
     "metadata": {},
     "output_type": "execute_result"
    },
    {
     "data": {
      "image/png": "[encoded data removed]",
      "text/plain": [
       "<Figure size 1080x1080 with 1 Axes>"
      ]
     },
     "metadata": {
      "needs_background": "light"
     },
     "output_type": "display_data"
    }
   ],
   "source": [
    "plt.figure(figsize=(15,15)) \n",
    "\n",
    "for author, pca_coordinates in df_pca_by_author.groupby(\"author\"):\n",
    "    plt.scatter(*zip(*pca_coordinates.drop(\"author\", axis=1).to_numpy()), label=author)\n",
    "for i in range(len(pca_matrix)):\n",
    "    plt.text(pca_matrix[i][0], pca_matrix[i][1],\"  \" + df_z_scores.index[i], alpha=0.5)\n",
    "\n",
    "plt.legend()\n",
    "\n",
    "plt.title(\"Representation using PCA of works in training corpus\")"
   ]
  }
 ],
 "metadata": {
  "celltoolbar": "Необработанный формат ячейки",
  "colab": {
   "name": "Untitled0.ipynb",
   "provenance": []
  },
  "kernelspec": {
   "display_name": "Python 3 (ipykernel)",
   "language": "python",
   "name": "python3"
  },
  "language_info": {
   "codemirror_mode": {
    "name": "ipython",
    "version": 3
   },
   "file_extension": ".py",
   "mimetype": "text/x-python",
   "name": "python",
   "nbconvert_exporter": "python",
   "pygments_lexer": "ipython3",
   "version": "3.9.7"
  }
 },
 "nbformat": 4,
 "nbformat_minor": 1
}
